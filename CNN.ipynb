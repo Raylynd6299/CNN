{
 "cells": [
  {
   "cell_type": "markdown",
   "metadata": {},
   "source": [
    "# Convolutional Neural Network\n",
    "\n",
    "Las \"Convolutional Neural Networks - CNN\" o Redes Neuronales Convolucionales en español, son un tipo de red neuronal enfocada en el procesamieno de matrices bidimencionales, debido a esto son muy utlizadas para vision artifcial, clasificcion y segmentacion de imagenes.\n",
    "\n",
    "Las CNN, realizan en general el mismo funcionamiento de un \"Neural Network\", ya que primeramente realizan la extraccion de caracteriticas para posteriormente realizar el proceso de decision.\n",
    "\n",
    "\"Convolutional networks are simply neural networks that use convolution in place of general matrix multiplication in at least one of their layers\"\n",
    "\n",
    "Lo relevante hablando de estas es como opera para realizar esto, pue el primer paso es realizar convoluciones.\n",
    "\n",
    "Para esto pantiemos el ejemplo de imagenes.\n",
    "\n",
    "Cada imagen \"i\" fungira como nuestra entrada, más precisamente $ I = \\{i_{1} ... i_{N} \\} $ .\n",
    "\n",
    "Una imagen es una matris bidimensional, en donde cada uno de sus elementos cuenta con un valor del 0 al 255.\n",
    "\n",
    "Y a su vez tenemos un Kernel, tambien llamado filtro una vez lo operamos sobre toda la imagen.\n",
    "\n",
    "Un kernel es una matris bidimencional, que se utliza para realizar enfoques, desenfoques, deteccion de bordes, realce, entre otras aplicaciones.\n",
    "\n",
    "\n",
    "Lo que nos es muy utili si lo que buscamos es obtener caracteristicas de una imagen.\n",
    "\n",
    "Para operar el kernel sobre una imagen es necesario realizar una convolucion entre ambos.\n",
    "\n",
    "Recordando la definicion de convolucion continua es la siguiente:\n",
    "$$ s(t) = \\int x(a)w(t-a)\\,da $$\n",
    "\n",
    "$$ s(t) = (x * w)(t) $$\n",
    "\n",
    "Donde w es funcion de dencidad de probabilidad, y w es 0 para los valores negativos\n",
    "\n",
    "Referente a nuestro problema, x es el ***input***, w es el ***kernel*** y s es lo llamado ***feauture map***\n",
    "\n",
    "Pero esta definicion de convolucion no es util para nosotros ya que nuestros datos son discretos.\n",
    "\n",
    "Para esto existe la definicion discreto de convolucion:\n",
    "$$ s(t) = (x * w)(t) = \\sum_{a=-\\infty}^{\\infty} x(a)w(t-a)$$\n",
    "\n"
   ]
  },
  {
   "cell_type": "code",
   "execution_count": null,
   "metadata": {},
   "outputs": [],
   "source": []
  }
 ],
 "metadata": {
  "kernelspec": {
   "display_name": "Python 3",
   "language": "python",
   "name": "python3"
  },
  "language_info": {
   "codemirror_mode": {
    "name": "ipython",
    "version": 3
   },
   "file_extension": ".py",
   "mimetype": "text/x-python",
   "name": "python",
   "nbconvert_exporter": "python",
   "pygments_lexer": "ipython3",
   "version": "3.8.5"
  }
 },
 "nbformat": 4,
 "nbformat_minor": 4
}
